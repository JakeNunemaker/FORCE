{
 "cells": [
  {
   "cell_type": "code",
   "execution_count": 1,
   "metadata": {},
   "outputs": [],
   "source": [
    "import numpy as np\n",
    "import pandas as pd\n",
    "from FORCE.learning import Regression\n",
    "from FORCE.utility import plot_learning_forecast"
   ]
  },
  {
   "cell_type": "code",
   "execution_count": 2,
   "metadata": {},
   "outputs": [
    {
     "name": "stdout",
     "output_type": "stream",
     "text": [
      "Index(['Wind Farm Id', 'Wind Farm', 'Other Names', 'Country Name',\n",
      "       'Windfarm Status', 'Round/Category', 'Region', 'Comments', 'Website',\n",
      "       'Most Recent Lifecycle Event', 'Park Construction Starts ',\n",
      "       'Offshore Construction Starts', 'Submit Consent Application',\n",
      "       'Consent Authorised', 'Financial Close', 'First Power',\n",
      "       'Full Commissioning', 'Analyst Offshore Start (Park)',\n",
      "       'Modelled Capacity (MW)', 'Analyst Certainty', 'Analyst Comments',\n",
      "       'Owners', 'Developers', 'Operators', 'Capacity MW (Max)',\n",
      "       'Capacity MW (Min)', 'Turbine Model and OEM', 'Is Estimated?',\n",
      "       'Turbine OEM', 'Turbine Model', 'Other Turbines', 'Turbine MW (Min)',\n",
      "       'Turbine MW (Max)', 'Num Turbines (Min)', 'Num Turbines (Max)',\n",
      "       'Total Turbine Height (M)', 'Hub Height (m)', 'Rotor Diam (m)',\n",
      "       'Foundation', 'Foundations on Windfarm', 'Foundation Comments', 'CAPEX',\n",
      "       'Project Cost Mill', 'Project Cost Currency', 'Revenue Mechanism',\n",
      "       'Revenue Details', 'Revenue Currency', 'Revenue per MWh',\n",
      "       'Revenue EUR per MWh', 'Water Depth Min (m)', 'Water Depth Max (m)',\n",
      "       'Dev Depth Min (m)', 'Dev Depth Max (m)',\n",
      "       'Distance From Shore Quoted (km)', 'Distance From Shore Auto (km)',\n",
      "       'Wind Speed 100m (m/s)', 'Area (SqKm)', 'Lat', 'Lon', 'Sea Name',\n",
      "       'Geo Region', 'Is Estimated Location?', 'Installation Base',\n",
      "       'Ops and Maintenance', 'Num Dedicated Platforms',\n",
      "       'Shared Platform Type', 'Grid Connection Point', 'Landing Point',\n",
      "       'AC Num Cables', 'AC Average Length Cable (km)',\n",
      "       'AC Additional Requirements (km)', 'AC Nominal Voltage (kV)',\n",
      "       'DC Num Cables', 'DC Average Length Cable (km)',\n",
      "       'DC Additional Requirements (km)', 'DC Nominal Voltage (kV)',\n",
      "       'Export Cable Comments', 'Cable Length (km) Array',\n",
      "       'Nominal Voltage (kV) Array', 'Comments Array', 'Num Cables Onshore',\n",
      "       'Average Length Cable (km) Onshore', 'Comments Onshore',\n",
      "       'Expected Life (years)'],\n",
      "      dtype='object')\n"
     ]
    }
   ],
   "source": [
    "# fp = \"/Users/jnunemak/Projects/FORCE/datasets/2018_OWMR.csv\"\n",
    "fp = \"2021_OWMR.csv\"\n",
    "projects = pd.read_csv(fp, header=2)#, encoding=\"ISO-8859-1\")\n",
    "print(projects.columns)"
   ]
  },
  {
   "cell_type": "code",
   "execution_count": 3,
   "metadata": {},
   "outputs": [
    {
     "name": "stdout",
     "output_type": "stream",
     "text": [
      "335.0 2016\n"
     ]
    },
    {
     "ename": "KeyError",
     "evalue": "335.0",
     "output_type": "error",
     "traceback": [
      "\u001b[1;31m---------------------------------------------------------------------------\u001b[0m",
      "\u001b[1;31mKeyError\u001b[0m                                  Traceback (most recent call last)",
      "\u001b[1;32m<ipython-input-3-02155992ba14>\u001b[0m in \u001b[0;36m<module>\u001b[1;34m()\u001b[0m\n\u001b[0;32m     20\u001b[0m \u001b[1;31m#     aggregate_countries=to_aggregate,\u001b[0m\u001b[1;33m\u001b[0m\u001b[1;33m\u001b[0m\u001b[1;33m\u001b[0m\u001b[0m\n\u001b[0;32m     21\u001b[0m     \u001b[0mdrop_categorical\u001b[0m\u001b[1;33m=\u001b[0m\u001b[1;33m[\u001b[0m\u001b[1;34m\"United Kingdom\"\u001b[0m\u001b[1;33m]\u001b[0m\u001b[1;33m,\u001b[0m\u001b[1;33m\u001b[0m\u001b[1;33m\u001b[0m\u001b[0m\n\u001b[1;32m---> 22\u001b[1;33m     \u001b[0mlog_vars\u001b[0m\u001b[1;33m=\u001b[0m\u001b[1;33m[\u001b[0m\u001b[1;34m'Cumulative Capacity'\u001b[0m\u001b[1;33m,\u001b[0m \u001b[1;34m'CAPEX_per_kw'\u001b[0m\u001b[1;33m]\u001b[0m\u001b[1;33m\u001b[0m\u001b[1;33m\u001b[0m\u001b[0m\n\u001b[0m\u001b[0;32m     23\u001b[0m )\n",
      "\u001b[1;32mC:\\Users\\mshields\\Documents\\Analysis Tools\\NREL\\FORCE\\FORCE\\FORCE\\learning\\regression.py\u001b[0m in \u001b[0;36m__init__\u001b[1;34m(self, projects, y_var, filters, regression_variables, status, drop_countries, drop_categorical, aggregate_countries, log_vars, add_vars, **kwargs)\u001b[0m\n\u001b[0;32m     81\u001b[0m                 \u001b[1;34m\"Project Cost Mill\"\u001b[0m\u001b[1;33m,\u001b[0m\u001b[1;33m\u001b[0m\u001b[1;33m\u001b[0m\u001b[0m\n\u001b[0;32m     82\u001b[0m                 \u001b[1;34m\"Project Cost Currency\"\u001b[0m\u001b[1;33m,\u001b[0m\u001b[1;33m\u001b[0m\u001b[1;33m\u001b[0m\u001b[0m\n\u001b[1;32m---> 83\u001b[1;33m                 \u001b[1;33m*\u001b[0m\u001b[0mself\u001b[0m\u001b[1;33m.\u001b[0m\u001b[0mregression_variables\u001b[0m\u001b[1;33m,\u001b[0m\u001b[1;33m\u001b[0m\u001b[1;33m\u001b[0m\u001b[0m\n\u001b[0m\u001b[0;32m     84\u001b[0m             ],\n\u001b[0;32m     85\u001b[0m         )\n",
      "\u001b[1;32mC:\\Users\\mshields\\Documents\\Analysis Tools\\NREL\\FORCE\\FORCE\\FORCE\\learning\\regression.py\u001b[0m in \u001b[0;36mclean_data\u001b[1;34m(self, data, required_columns)\u001b[0m\n\u001b[0;32m    247\u001b[0m             \u001b[0maxis\u001b[0m\u001b[1;33m=\u001b[0m\u001b[1;36m1\u001b[0m\u001b[1;33m,\u001b[0m\u001b[1;33m\u001b[0m\u001b[1;33m\u001b[0m\u001b[0m\n\u001b[0;32m    248\u001b[0m             \u001b[0mid_col\u001b[0m\u001b[1;33m=\u001b[0m\u001b[1;34m\"Project Cost Mill\"\u001b[0m\u001b[1;33m,\u001b[0m\u001b[1;33m\u001b[0m\u001b[1;33m\u001b[0m\u001b[0m\n\u001b[1;32m--> 249\u001b[1;33m             \u001b[0mval_col\u001b[0m\u001b[1;33m=\u001b[0m\u001b[1;34m\"Project Cost Currency\"\u001b[0m\u001b[1;33m,\u001b[0m\u001b[1;33m\u001b[0m\u001b[1;33m\u001b[0m\u001b[0m\n\u001b[0m\u001b[0;32m    250\u001b[0m         )\n\u001b[0;32m    251\u001b[0m         data[\"CAPEX_per_kw\"] = (data[\"CAPEX_conv\"] * 1e6) / (\n",
      "\u001b[1;32mC:\\Users\\mshields\\AppData\\Local\\Continuum\\anaconda3\\envs\\floating-study\\lib\\site-packages\\pandas\\core\\frame.py\u001b[0m in \u001b[0;36mapply\u001b[1;34m(self, func, axis, raw, result_type, args, **kwds)\u001b[0m\n\u001b[0;32m   7763\u001b[0m             \u001b[0mkwds\u001b[0m\u001b[1;33m=\u001b[0m\u001b[0mkwds\u001b[0m\u001b[1;33m,\u001b[0m\u001b[1;33m\u001b[0m\u001b[1;33m\u001b[0m\u001b[0m\n\u001b[0;32m   7764\u001b[0m         )\n\u001b[1;32m-> 7765\u001b[1;33m         \u001b[1;32mreturn\u001b[0m \u001b[0mop\u001b[0m\u001b[1;33m.\u001b[0m\u001b[0mget_result\u001b[0m\u001b[1;33m(\u001b[0m\u001b[1;33m)\u001b[0m\u001b[1;33m\u001b[0m\u001b[1;33m\u001b[0m\u001b[0m\n\u001b[0m\u001b[0;32m   7766\u001b[0m \u001b[1;33m\u001b[0m\u001b[0m\n\u001b[0;32m   7767\u001b[0m     \u001b[1;32mdef\u001b[0m \u001b[0mapplymap\u001b[0m\u001b[1;33m(\u001b[0m\u001b[0mself\u001b[0m\u001b[1;33m,\u001b[0m \u001b[0mfunc\u001b[0m\u001b[1;33m,\u001b[0m \u001b[0mna_action\u001b[0m\u001b[1;33m:\u001b[0m \u001b[0mOptional\u001b[0m\u001b[1;33m[\u001b[0m\u001b[0mstr\u001b[0m\u001b[1;33m]\u001b[0m \u001b[1;33m=\u001b[0m \u001b[1;32mNone\u001b[0m\u001b[1;33m)\u001b[0m \u001b[1;33m->\u001b[0m \u001b[0mDataFrame\u001b[0m\u001b[1;33m:\u001b[0m\u001b[1;33m\u001b[0m\u001b[1;33m\u001b[0m\u001b[0m\n",
      "\u001b[1;32mC:\\Users\\mshields\\AppData\\Local\\Continuum\\anaconda3\\envs\\floating-study\\lib\\site-packages\\pandas\\core\\apply.py\u001b[0m in \u001b[0;36mget_result\u001b[1;34m(self)\u001b[0m\n\u001b[0;32m    183\u001b[0m             \u001b[1;32mreturn\u001b[0m \u001b[0mself\u001b[0m\u001b[1;33m.\u001b[0m\u001b[0mapply_raw\u001b[0m\u001b[1;33m(\u001b[0m\u001b[1;33m)\u001b[0m\u001b[1;33m\u001b[0m\u001b[1;33m\u001b[0m\u001b[0m\n\u001b[0;32m    184\u001b[0m \u001b[1;33m\u001b[0m\u001b[0m\n\u001b[1;32m--> 185\u001b[1;33m         \u001b[1;32mreturn\u001b[0m \u001b[0mself\u001b[0m\u001b[1;33m.\u001b[0m\u001b[0mapply_standard\u001b[0m\u001b[1;33m(\u001b[0m\u001b[1;33m)\u001b[0m\u001b[1;33m\u001b[0m\u001b[1;33m\u001b[0m\u001b[0m\n\u001b[0m\u001b[0;32m    186\u001b[0m \u001b[1;33m\u001b[0m\u001b[0m\n\u001b[0;32m    187\u001b[0m     \u001b[1;32mdef\u001b[0m \u001b[0mapply_empty_result\u001b[0m\u001b[1;33m(\u001b[0m\u001b[0mself\u001b[0m\u001b[1;33m)\u001b[0m\u001b[1;33m:\u001b[0m\u001b[1;33m\u001b[0m\u001b[1;33m\u001b[0m\u001b[0m\n",
      "\u001b[1;32mC:\\Users\\mshields\\AppData\\Local\\Continuum\\anaconda3\\envs\\floating-study\\lib\\site-packages\\pandas\\core\\apply.py\u001b[0m in \u001b[0;36mapply_standard\u001b[1;34m(self)\u001b[0m\n\u001b[0;32m    274\u001b[0m \u001b[1;33m\u001b[0m\u001b[0m\n\u001b[0;32m    275\u001b[0m     \u001b[1;32mdef\u001b[0m \u001b[0mapply_standard\u001b[0m\u001b[1;33m(\u001b[0m\u001b[0mself\u001b[0m\u001b[1;33m)\u001b[0m\u001b[1;33m:\u001b[0m\u001b[1;33m\u001b[0m\u001b[1;33m\u001b[0m\u001b[0m\n\u001b[1;32m--> 276\u001b[1;33m         \u001b[0mresults\u001b[0m\u001b[1;33m,\u001b[0m \u001b[0mres_index\u001b[0m \u001b[1;33m=\u001b[0m \u001b[0mself\u001b[0m\u001b[1;33m.\u001b[0m\u001b[0mapply_series_generator\u001b[0m\u001b[1;33m(\u001b[0m\u001b[1;33m)\u001b[0m\u001b[1;33m\u001b[0m\u001b[1;33m\u001b[0m\u001b[0m\n\u001b[0m\u001b[0;32m    277\u001b[0m \u001b[1;33m\u001b[0m\u001b[0m\n\u001b[0;32m    278\u001b[0m         \u001b[1;31m# wrap results\u001b[0m\u001b[1;33m\u001b[0m\u001b[1;33m\u001b[0m\u001b[1;33m\u001b[0m\u001b[0m\n",
      "\u001b[1;32mC:\\Users\\mshields\\AppData\\Local\\Continuum\\anaconda3\\envs\\floating-study\\lib\\site-packages\\pandas\\core\\apply.py\u001b[0m in \u001b[0;36mapply_series_generator\u001b[1;34m(self)\u001b[0m\n\u001b[0;32m    288\u001b[0m             \u001b[1;32mfor\u001b[0m \u001b[0mi\u001b[0m\u001b[1;33m,\u001b[0m \u001b[0mv\u001b[0m \u001b[1;32min\u001b[0m \u001b[0menumerate\u001b[0m\u001b[1;33m(\u001b[0m\u001b[0mseries_gen\u001b[0m\u001b[1;33m)\u001b[0m\u001b[1;33m:\u001b[0m\u001b[1;33m\u001b[0m\u001b[1;33m\u001b[0m\u001b[0m\n\u001b[0;32m    289\u001b[0m                 \u001b[1;31m# ignore SettingWithCopy here in case the user mutates\u001b[0m\u001b[1;33m\u001b[0m\u001b[1;33m\u001b[0m\u001b[1;33m\u001b[0m\u001b[0m\n\u001b[1;32m--> 290\u001b[1;33m                 \u001b[0mresults\u001b[0m\u001b[1;33m[\u001b[0m\u001b[0mi\u001b[0m\u001b[1;33m]\u001b[0m \u001b[1;33m=\u001b[0m \u001b[0mself\u001b[0m\u001b[1;33m.\u001b[0m\u001b[0mf\u001b[0m\u001b[1;33m(\u001b[0m\u001b[0mv\u001b[0m\u001b[1;33m)\u001b[0m\u001b[1;33m\u001b[0m\u001b[1;33m\u001b[0m\u001b[0m\n\u001b[0m\u001b[0;32m    291\u001b[0m                 \u001b[1;32mif\u001b[0m \u001b[0misinstance\u001b[0m\u001b[1;33m(\u001b[0m\u001b[0mresults\u001b[0m\u001b[1;33m[\u001b[0m\u001b[0mi\u001b[0m\u001b[1;33m]\u001b[0m\u001b[1;33m,\u001b[0m \u001b[0mABCSeries\u001b[0m\u001b[1;33m)\u001b[0m\u001b[1;33m:\u001b[0m\u001b[1;33m\u001b[0m\u001b[1;33m\u001b[0m\u001b[0m\n\u001b[0;32m    292\u001b[0m                     \u001b[1;31m# If we have a view on v, we need to make a copy because\u001b[0m\u001b[1;33m\u001b[0m\u001b[1;33m\u001b[0m\u001b[1;33m\u001b[0m\u001b[0m\n",
      "\u001b[1;32mC:\\Users\\mshields\\AppData\\Local\\Continuum\\anaconda3\\envs\\floating-study\\lib\\site-packages\\pandas\\core\\apply.py\u001b[0m in \u001b[0;36mf\u001b[1;34m(x)\u001b[0m\n\u001b[0;32m    108\u001b[0m \u001b[1;33m\u001b[0m\u001b[0m\n\u001b[0;32m    109\u001b[0m             \u001b[1;32mdef\u001b[0m \u001b[0mf\u001b[0m\u001b[1;33m(\u001b[0m\u001b[0mx\u001b[0m\u001b[1;33m)\u001b[0m\u001b[1;33m:\u001b[0m\u001b[1;33m\u001b[0m\u001b[1;33m\u001b[0m\u001b[0m\n\u001b[1;32m--> 110\u001b[1;33m                 \u001b[1;32mreturn\u001b[0m \u001b[0mfunc\u001b[0m\u001b[1;33m(\u001b[0m\u001b[0mx\u001b[0m\u001b[1;33m,\u001b[0m \u001b[1;33m*\u001b[0m\u001b[0margs\u001b[0m\u001b[1;33m,\u001b[0m \u001b[1;33m**\u001b[0m\u001b[0mkwds\u001b[0m\u001b[1;33m)\u001b[0m\u001b[1;33m\u001b[0m\u001b[1;33m\u001b[0m\u001b[0m\n\u001b[0m\u001b[0;32m    111\u001b[0m \u001b[1;33m\u001b[0m\u001b[0m\n\u001b[0;32m    112\u001b[0m         \u001b[1;32melse\u001b[0m\u001b[1;33m:\u001b[0m\u001b[1;33m\u001b[0m\u001b[1;33m\u001b[0m\u001b[0m\n",
      "\u001b[1;32mC:\\Users\\mshields\\Documents\\Analysis Tools\\NREL\\FORCE\\FORCE\\FORCE\\learning\\regression.py\u001b[0m in \u001b[0;36mconv_currency\u001b[1;34m(row, id_col, val_col, output)\u001b[0m\n\u001b[0;32m    344\u001b[0m             \u001b[0myear\u001b[0m \u001b[1;33m=\u001b[0m \u001b[1;36m1990.0\u001b[0m\u001b[1;33m\u001b[0m\u001b[1;33m\u001b[0m\u001b[0m\n\u001b[0;32m    345\u001b[0m \u001b[1;33m\u001b[0m\u001b[0m\n\u001b[1;32m--> 346\u001b[1;33m         \u001b[0mex_rate\u001b[0m \u001b[1;33m=\u001b[0m \u001b[0mex_rates\u001b[0m\u001b[1;33m[\u001b[0m\u001b[0mcurrency\u001b[0m\u001b[1;33m]\u001b[0m\u001b[1;33m[\u001b[0m\u001b[0myear\u001b[0m\u001b[1;33m]\u001b[0m\u001b[1;33m\u001b[0m\u001b[1;33m\u001b[0m\u001b[0m\n\u001b[0m\u001b[0;32m    347\u001b[0m \u001b[1;33m\u001b[0m\u001b[0m\n\u001b[0;32m    348\u001b[0m         \u001b[1;32mif\u001b[0m \u001b[0moutput\u001b[0m \u001b[1;33m!=\u001b[0m \u001b[1;34m\"USD\"\u001b[0m\u001b[1;33m:\u001b[0m\u001b[1;33m\u001b[0m\u001b[1;33m\u001b[0m\u001b[0m\n",
      "\u001b[1;31mKeyError\u001b[0m: 335.0"
     ]
    }
   ],
   "source": [
    "filters = {\n",
    "   'Capacity MW (Max)': (149, ),\n",
    "   'Full Commissioning': (2014, 2019),\n",
    "   'CAPEX_per_kw': (800, 8000.0)\n",
    "}\n",
    "\n",
    "to_aggregate = {\n",
    "    'United Kingdom': 'United Kingdom',\n",
    "    'Germany': 'Germany',\n",
    "    'Netherlands': 'Netherlands',\n",
    "    'Belgium' : 'Belgium',\n",
    "    'China': 'China',\n",
    "}\n",
    "\n",
    "regression = Regression(\n",
    "    projects,\n",
    "    y_var=\"log CAPEX_per_kw\",\n",
    "    filters=filters,\n",
    "    regression_variables=['Country Name', 'Water Depth Max (m)', 'Turbine MW (Max)',  'Capacity MW (Max)', 'Distance From Shore Auto (km)'],\n",
    "#     aggregate_countries=to_aggregate,\n",
    "    drop_categorical=[\"United Kingdom\"],\n",
    "    log_vars=['Cumulative Capacity', 'CAPEX_per_kw']\n",
    ")"
   ]
  },
  {
   "cell_type": "code",
   "execution_count": null,
   "metadata": {},
   "outputs": [],
   "source": [
    "forecast = {\n",
    "#     2013: 4453,\n",
    "#     2014: 7002,\n",
    "#     2015: 7818,\n",
    "#     2016: 12155,\n",
    "#     2017: 12678,\n",
    "#     2018: 16940,\n",
    "    2019: 22592,\n",
    "    2020: 33470,\n",
    "    2021: 40366,\n",
    "    2022: 43769,\n",
    "    2023: 52924,\n",
    "    2024: 63195,\n",
    "    2025: 66675,\n",
    "    2026: 83875,\n",
    "    2027: 84875,\n",
    "    2028: 90875,\n",
    "    2031: 91325\n",
    "}"
   ]
  },
  {
   "cell_type": "code",
   "execution_count": null,
   "metadata": {},
   "outputs": [],
   "source": [
    "axes = plot_learning_forecast(\n",
    "    installed=regression.installed_capacity,\n",
    "    capex=regression.current_capex,\n",
    "    fit=regression.cumulative_capacity_fit,\n",
    "    forecast=forecast,\n",
    "    bse=regression.cumulative_capacity_bse,\n",
    "    perc_change=False,\n",
    "    figsize=(6, 4),\n",
    "    dpi=150\n",
    ")"
   ]
  },
  {
   "cell_type": "code",
   "execution_count": null,
   "metadata": {},
   "outputs": [],
   "source": [
    "print(regression.cumulative_capacity_fit)"
   ]
  },
  {
   "cell_type": "code",
   "execution_count": null,
   "metadata": {},
   "outputs": [],
   "source": []
  }
 ],
 "metadata": {
  "kernelspec": {
   "display_name": "Python 3",
   "language": "python",
   "name": "python3"
  },
  "language_info": {
   "codemirror_mode": {
    "name": "ipython",
    "version": 3
   },
   "file_extension": ".py",
   "mimetype": "text/x-python",
   "name": "python",
   "nbconvert_exporter": "python",
   "pygments_lexer": "ipython3",
   "version": "3.7.9"
  }
 },
 "nbformat": 4,
 "nbformat_minor": 4
}
